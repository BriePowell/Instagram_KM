{
 "cells": [
  {
   "cell_type": "code",
   "execution_count": null,
   "metadata": {},
   "outputs": [],
   "source": [
    "# IMPORTS\n",
    "\n",
    "import json\n",
    "import pandas as pd"
   ]
  },
  {
   "cell_type": "code",
   "execution_count": null,
   "metadata": {},
   "outputs": [],
   "source": [
    "# Populate a list of our file names\n",
    "\n",
    "filenum = 0\n",
    "files = []\n",
    "\n",
    "while filenum <21:\n",
    "    filenum += 1\n",
    "    file = f'raw_response_({filenum}).json'\n",
    "    files.append(file)"
   ]
  },
  {
   "cell_type": "code",
   "execution_count": null,
   "metadata": {},
   "outputs": [],
   "source": [
    "# E.T.L\n",
    "\n",
    "for file in files: \n",
    "    with open(f'./data/{file}', encoding='utf-8') as df:\n",
    "        alpha = json.load(df) # Pull the json data into a dictionary\n",
    "        print(f'{file} has been loaded into the a dictionary...' ) # make sure we're looping\n",
    "        cmnt_data = pd.DataFrame(alpha['comments']) # drill down to the coments in nested table \n",
    "        delta = pd.DataFrame(cmnt_data[['user_id','created_at_utc','text', 'comment_like_count', 'child_comment_count']])# comment data from 'replies' dict wth-in the df\n",
    "        usr_data = pd.json_normalize(cmnt_data['user']) # collect the user data from the 'comment' dictionary within the df\n",
    "        usr_tbl =  usr_data[['pk', 'full_name', 'is_private', 'username', 'is_verified']] # pull the column data we want about the users\n",
    "        cmt_tbl = delta[['user_id', 'created_at_utc', 'text', 'comment_like_count', 'child_comment_count']] # pull the column data we want about the comments\n",
    "        staging_tabble = pd.concat([usr_tbl, cmt_tbl], axis=1) # hold the transformed data for writing to the final table\n",
    "    insta_comments_table = pd.concat([staging_tabble, insta_comments_table], axis=0, ignore_index=True) # save the staging_table to the final df\n",
    "\n",
    "insta_comments_table"
   ]
  },
  {
   "cell_type": "code",
   "execution_count": null,
   "metadata": {},
   "outputs": [],
   "source": [
    "# Save\n",
    "\n",
    "insta_comments_table.to_csv('instagram_data.csv')"
   ]
  }
 ],
 "metadata": {
  "language_info": {
   "name": "python"
  },
  "orig_nbformat": 4
 },
 "nbformat": 4,
 "nbformat_minor": 2
}
